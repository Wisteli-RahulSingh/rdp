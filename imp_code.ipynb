{
 "cells": [
  {
   "cell_type": "code",
   "execution_count": 1,
   "id": "7a299f80-3e41-45b9-92b5-531c18b3e791",
   "metadata": {
    "tags": []
   },
   "outputs": [],
   "source": [
    "###### Getting files from the directory:-->\n",
    "\n",
    "import pathlib\n",
    "report_dir = '/media/data/scholarship/data/'\n",
    "extensions = ['*.pdf', '*.jpg', '*.jpeg', '*.PDF']\n",
    "d=[]\n",
    "for ext in extensions:\n",
    "    for p in pathlib.Path(report_dir).rglob(ext):\n",
    "        d.append(str(p))"
   ]
  },
  {
   "cell_type": "code",
   "execution_count": null,
   "id": "c81f034a-54fd-4792-b39a-db357d8b25dc",
   "metadata": {
    "tags": []
   },
   "outputs": [],
   "source": []
  },
  {
   "cell_type": "code",
   "execution_count": null,
   "id": "f41bb771-d44a-4319-b49b-facff4e95916",
   "metadata": {},
   "outputs": [],
   "source": []
  }
 ],
 "metadata": {
  "kernelspec": {
   "display_name": "LATest",
   "language": "python",
   "name": "latest"
  },
  "language_info": {
   "codemirror_mode": {
    "name": "ipython",
    "version": 3
   },
   "file_extension": ".py",
   "mimetype": "text/x-python",
   "name": "python",
   "nbconvert_exporter": "python",
   "pygments_lexer": "ipython3",
   "version": "3.8.10"
  }
 },
 "nbformat": 4,
 "nbformat_minor": 5
}
