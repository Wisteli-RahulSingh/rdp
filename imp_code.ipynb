{
 "cells": [
  {
   "cell_type": "code",
   "execution_count": 1,
   "id": "7a299f80-3e41-45b9-92b5-531c18b3e791",
   "metadata": {
    "tags": []
   },
   "outputs": [],
   "source": [
    "###### Getting files from the directory:-->\n",
    "\n",
    "import pathlib\n",
    "report_dir = '/media/data/scholarship/data/'\n",
    "extensions = ['*.pdf', '*.jpg', '*.jpeg', '*.PDF']\n",
    "d=[]\n",
    "for ext in extensions:\n",
    "    for p in pathlib.Path(report_dir).rglob(ext):\n",
    "        d.append(str(p))"
   ]
  },
  {
   "cell_type": "code",
   "execution_count": null,
   "id": "c81f034a-54fd-4792-b39a-db357d8b25dc",
   "metadata": {
    "tags": []
   },
   "outputs": [],
   "source": []
  },
  {
   "cell_type": "code",
   "execution_count": null,
   "id": "f41bb771-d44a-4319-b49b-facff4e95916",
   "metadata": {},
   "outputs": [],
   "source": [
    "master_columns = ['/Author','/CreationDate','/Creator','/Keywords','/ModDate','/Producer','/Subject','/Title']\n",
    "\n",
    "def pdf_metadata_extraction(list_of_path):\n",
    "    list1 = []\n",
    "    for i in list_of_path:\n",
    "        if i.lower().endswith('pdf'):\n",
    "            pdf = pikepdf.Pdf.open(i)\n",
    "            docinfo = pdf.docinfo\n",
    "            for key, value in docinfo.items():\n",
    "                if key == \"/CreationDate\":\n",
    "                    if str(value).startswith(\"D:\"):\n",
    "                # pdf datetime format, convert to python datetime\n",
    "                        value = transform_date(str(pdf.docinfo[\"/CreationDate\"]))\n",
    "                if key == \"/ModDate\":\n",
    "                    if str(value).startswith(\"D:\"):\n",
    "                # pdf datetime format, convert to python datetime\n",
    "                        value = transform_date(str(pdf.docinfo[\"/ModDate\"]))\n",
    "                list1.append((i, key,str(value)))\n",
    "                \n",
    "    ##### Creating a DataFrame :--------->\n",
    "    df = pd.DataFrame(list1, columns = ['file_name', 'metadata_rule', 'value'])\n",
    "    \n",
    "    ##### Creating  a Pivot Table :------>\n",
    "    df = df.pivot_table(index = 'file_name', columns = 'metadata_rule' , values = [\"value\"], aggfunc='first').reset_index()\n",
    "    \n",
    "    ##### Solving Multi-Indexing Problems :--->\n",
    "    newCols = []\n",
    "    for c in df.columns:\n",
    "        colName = \"{}_{}\".format(c[0],c[1])\n",
    "        newCols.append(colName)\n",
    "    df.columns = newCols\n",
    "    \n",
    "    #### Cleaning Columns :------>\n",
    "    df.columns = [i.replace('value_', '').replace('/', '') for i in df.columns]\n",
    "    return df"
   ]
  }
 ],
 "metadata": {
  "kernelspec": {
   "display_name": "LATest",
   "language": "python",
   "name": "latest"
  },
  "language_info": {
   "codemirror_mode": {
    "name": "ipython",
    "version": 3
   },
   "file_extension": ".py",
   "mimetype": "text/x-python",
   "name": "python",
   "nbconvert_exporter": "python",
   "pygments_lexer": "ipython3",
   "version": "3.8.10"
  }
 },
 "nbformat": 4,
 "nbformat_minor": 5
}
