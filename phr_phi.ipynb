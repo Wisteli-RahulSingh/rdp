{
 "cells": [
  {
   "cell_type": "code",
   "execution_count": 12,
   "id": "716a40f5-cb53-4a6c-8ef1-a3ea6e69d014",
   "metadata": {
    "tags": []
   },
   "outputs": [],
   "source": [
    "import base64\n",
    "import hashlib\n",
    "from Crypto import Random\n",
    "from Crypto.Cipher import AES\n",
    "\n",
    "class AESCipher(object):\n",
    "\n",
    "    def __init__(self, key):\n",
    "        self.bs = AES.block_size\n",
    "        self.key = hashlib.sha256(key.encode()).digest()\n",
    "\n",
    "    def encrypt(self, raw):\n",
    "        raw = self._pad(raw)\n",
    "        iv = Random.new().read(AES.block_size)\n",
    "        cipher = AES.new(self.key, AES.MODE_CBC, iv)\n",
    "        return base64.b64encode(iv + cipher.encrypt(raw.encode()))\n",
    "\n",
    "    def decrypt(self, enc):\n",
    "        enc = base64.b64decode(enc)\n",
    "        iv = enc[:AES.block_size]\n",
    "        cipher = AES.new(self.key, AES.MODE_CBC, iv)\n",
    "        return self._unpad(cipher.decrypt(enc[AES.block_size:])).decode('utf-8')\n",
    "\n",
    "    def _pad(self, s):\n",
    "        return s + (self.bs - len(s) % self.bs) * chr(self.bs - len(s) % self.bs)\n",
    "\n",
    "    @staticmethod\n",
    "    def _unpad(s):\n",
    "        return s[:-ord(s[len(s)-1:])]"
   ]
  },
  {
   "cell_type": "code",
   "execution_count": 23,
   "id": "f6f46160-a3cd-4fe4-b1e2-e43431ad3766",
   "metadata": {
    "tags": []
   },
   "outputs": [],
   "source": [
    "obj=AESCipher(\"pythonflask\")\n",
    "\n",
    "\n",
    "\n",
    "x=obj.encrypt(\"abhiyankisgreat\")\n",
    "# print(str(x))\n",
    "# print(type(x))  ### type of string\n",
    "# # cc=(x)\n",
    "# # print(cc)\n"
   ]
  },
  {
   "cell_type": "code",
   "execution_count": 40,
   "id": "d58f22cf-760f-46f2-b261-719a5a64d49b",
   "metadata": {
    "tags": []
   },
   "outputs": [
    {
     "data": {
      "text/plain": [
       "b'VeO/ls16NOkGd3ZjPKgVHb6YiwL15GiurhIALLOp4oM='"
      ]
     },
     "execution_count": 40,
     "metadata": {},
     "output_type": "execute_result"
    }
   ],
   "source": [
    "x"
   ]
  },
  {
   "cell_type": "code",
   "execution_count": 41,
   "id": "56f645bc-8b4e-4bce-a01d-b0fa5501852d",
   "metadata": {
    "tags": []
   },
   "outputs": [
    {
     "data": {
      "text/plain": [
       "bytes"
      ]
     },
     "execution_count": 41,
     "metadata": {},
     "output_type": "execute_result"
    }
   ],
   "source": [
    "type(x)"
   ]
  },
  {
   "cell_type": "code",
   "execution_count": 48,
   "id": "18f9f9b7-68b6-40d5-8c80-ee131708cef6",
   "metadata": {
    "tags": []
   },
   "outputs": [
    {
     "data": {
      "text/plain": [
       "'VeO/ls16NOkGd3ZjPKgVHb6YiwL15GiurhIALLOp4oM='"
      ]
     },
     "execution_count": 48,
     "metadata": {},
     "output_type": "execute_result"
    }
   ],
   "source": [
    "str_x = x.decode()\n",
    "str_x"
   ]
  },
  {
   "cell_type": "code",
   "execution_count": 49,
   "id": "3fc9bdc4-0393-4f30-9ddb-7cd2d6cdc0f2",
   "metadata": {
    "tags": []
   },
   "outputs": [
    {
     "data": {
      "text/plain": [
       "b'VeO/ls16NOkGd3ZjPKgVHb6YiwL15GiurhIALLOp4oM='"
      ]
     },
     "execution_count": 49,
     "metadata": {},
     "output_type": "execute_result"
    }
   ],
   "source": [
    "str_byte = str_x.encode()\n",
    "str_byte"
   ]
  },
  {
   "cell_type": "code",
   "execution_count": 15,
   "id": "995adedb-84c0-48ce-bd93-01820c6f597a",
   "metadata": {
    "tags": []
   },
   "outputs": [
    {
     "name": "stdout",
     "output_type": "stream",
     "text": [
      "abhiyankisgreat\n"
     ]
    }
   ],
   "source": [
    "\n",
    "y=obj.decrypt(x)\n",
    "print(y)"
   ]
  },
  {
   "cell_type": "raw",
   "id": "277cb512-cf5c-405e-9c73-525a73bb26e5",
   "metadata": {},
   "source": [
    "write a code so that it will add random alphabet  in 5, 10 , 15 and return it in byte"
   ]
  },
  {
   "cell_type": "code",
   "execution_count": null,
   "id": "5c36811e-1b6d-4f6a-a1a1-121bf71171e0",
   "metadata": {},
   "outputs": [],
   "source": []
  },
  {
   "cell_type": "code",
   "execution_count": null,
   "id": "d175a66a-67f5-42d2-8f88-3a0ee95926af",
   "metadata": {},
   "outputs": [],
   "source": []
  }
 ],
 "metadata": {
  "kernelspec": {
   "display_name": "LATest",
   "language": "python",
   "name": "latest"
  },
  "language_info": {
   "codemirror_mode": {
    "name": "ipython",
    "version": 3
   },
   "file_extension": ".py",
   "mimetype": "text/x-python",
   "name": "python",
   "nbconvert_exporter": "python",
   "pygments_lexer": "ipython3",
   "version": "3.8.10"
  }
 },
 "nbformat": 4,
 "nbformat_minor": 5
}
