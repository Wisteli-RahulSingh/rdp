{
 "cells": [
  {
   "cell_type": "code",
   "execution_count": 1,
   "id": "7974777c-12bf-45d5-9411-79c7f4402844",
   "metadata": {
    "tags": []
   },
   "outputs": [],
   "source": [
    "import pandas as pd\n",
    "import numpy as np\n",
    "import PyPDF2\n",
    "import json\n",
    "import re\n",
    "import unicodedata"
   ]
  },
  {
   "cell_type": "code",
   "execution_count": 2,
   "id": "3ad7c195-437f-4b46-81a4-bd29ea4d3354",
   "metadata": {},
   "outputs": [],
   "source": [
    "d= '/home/rsingh/caregem/pdf/210000083PFee- Invoice - 2388.pdf'"
   ]
  },
  {
   "cell_type": "code",
   "execution_count": 3,
   "id": "5c9e0d4b-560b-461c-bcee-d97fdd7fecb7",
   "metadata": {
    "jupyter": {
     "source_hidden": true
    },
    "tags": []
   },
   "outputs": [
    {
     "name": "stdout",
     "output_type": "stream",
     "text": [
      "{\"text\": \"Registered Office :351, Ashutosh Nagar, Krishna Nagar, Lucknow - 226012E-mail : claims.mcs@gmail.com INVOICE Bill No: MCSPL/2021 -22/2388 Date: 12/11 /2021 GST No of Maccoy : 09AAICM8727F1Z4 PAN NO: AAICM8727F Company Name: Bajaj Allianz General Insurance Co. Ltd, Address : Block No \\u2013 4, 7 th Floor, DLF Towers 15, Shivaji Marg, New Delhi - 110015 GST No of Bajaj Allianz : 07AABCB5730G1ZZ Particulars Name of the Insured Shanti Lal Claim No. 210000083 P Type of Claim Death Claim Location Bhilwara /Rajsaman d Professional Charges for Investigation Amount Complete Investigation Charge different Location Visit Charges - 3000/ - - 200/ - IGST Charges (18%) - 900/- Multiple Visit Charges - Total 5900 /- Amount in words - Five Thousand Nine Hundred Rupees Only Thanking You, Yours Truly For Maccoy Consultancy Services Pvt Ltd Authorized Si gnatory Note: 1.TDS Deducted if any may kindly be credited to Pan No: - AAICM8727F 2.Cheque may kindly be prepared in favour of Maccoy Consultancy Services Pvt . Ltd 3.ICICI Bank Account No: - 031805004989 IFSC - ICIC0000318 4.Service Tax not included as our organization currently fall under service tax exemption.\"}\n"
     ]
    }
   ],
   "source": [
    "def convert_pdf_to_text(pdf_path):\n",
    "    with open(pdf_path, 'rb') as file:\n",
    "        pdf_reader = PyPDF2.PdfReader(file)\n",
    "        num_pages = len(pdf_reader.pages)\n",
    "        # key = pdf_path.split(\"/\")[0].strip() # change key name according to the file path\n",
    "        text = \"\"\n",
    "\n",
    "        for page_num in range(num_pages):\n",
    "            page = pdf_reader.pages[page_num]\n",
    "            text += page.extract_text()\n",
    "\n",
    "        # Clean the text by removing Unicode characters and all types of spaces using regex\n",
    "        cleaned_text = re.sub('\\s+', ' ', \"\".join(char for char in text.strip() if unicodedata.category(char)[0] != \"C\"))\n",
    "\n",
    "        return {\"text\": cleaned_text}\n",
    "\n",
    "# Example usage\n",
    "pdf_path = d # Replace with the path to your PDF file\n",
    "converted_text = convert_pdf_to_text(pdf_path)\n",
    "json_output = json.dumps(converted_text)\n",
    "\n",
    "print(json_output)\n"
   ]
  },
  {
   "cell_type": "code",
   "execution_count": 4,
   "id": "41096f47-bb1d-4a8a-8660-6329ee2903ac",
   "metadata": {
    "tags": []
   },
   "outputs": [],
   "source": [
    "import PyPDF2\n",
    "import json\n",
    "\n",
    "def convert_pdf_to_text(pdf_path):\n",
    "    with open(pdf_path, 'rb') as file:\n",
    "        pdf_reader = PyPDF2.PdfReader(file)\n",
    "        num_pages = len(pdf_reader.pages)\n",
    "        text = \"\"\n",
    "\n",
    "        for page_num in range(num_pages):\n",
    "            page = pdf_reader.pages[page_num]\n",
    "            text += page.extract_text()\n",
    "\n",
    "        return {\"text\": text}\n",
    "\n",
    "# Example usage\n",
    "pdf_path = d  # Replace with the path to your PDF file\n",
    "converted_text = convert_pdf_to_text(pdf_path)\n",
    "lines = converted_text['text'].split('\\n')\n",
    "# json_output = json.dumps(converted_text)\n",
    "\n",
    "# print(converted_text['text'])"
   ]
  },
  {
   "cell_type": "code",
   "execution_count": 5,
   "id": "eca0f46a-0615-4702-9d8f-6b5e590c19a6",
   "metadata": {
    "tags": []
   },
   "outputs": [],
   "source": [
    "def cleanText(txt):\n",
    "    txt = \" \".join(txt.split())\n",
    "    stripped = str(txt).strip()\n",
    "    return stripped"
   ]
  },
  {
   "cell_type": "code",
   "execution_count": 6,
   "id": "d2a35828-3cc3-4f46-9b73-239f4f3d8936",
   "metadata": {
    "tags": []
   },
   "outputs": [],
   "source": [
    "stripped = list(map(cleanText, lines))"
   ]
  },
  {
   "cell_type": "code",
   "execution_count": 8,
   "id": "05705af6-4f8e-4592-b8c8-31b8e5f02298",
   "metadata": {
    "tags": []
   },
   "outputs": [
    {
     "data": {
      "text/plain": [
       "['Registered Office :',\n",
       " '351, Ashutosh Nagar,',\n",
       " 'Krishna Nagar,',\n",
       " 'Lucknow - 226012',\n",
       " 'E-mail : claims.mcs@gmail.com',\n",
       " '',\n",
       " '',\n",
       " 'INVOICE',\n",
       " '',\n",
       " 'Bill No: MCSPL/2021 -22/2388 Date: 12/11 /2021',\n",
       " 'GST No of Maccoy : 09AAICM8727F1Z4',\n",
       " '',\n",
       " 'PAN NO: AAICM8727F',\n",
       " '',\n",
       " 'Company Name: Bajaj Allianz General Insurance Co. Ltd,',\n",
       " 'Address : Block No – 4, 7 th Floor, DLF Towers',\n",
       " '15, Shivaji Marg, New Delhi - 110015',\n",
       " 'GST No of Bajaj Allianz : 07AABCB5730G1ZZ',\n",
       " '',\n",
       " 'Particulars',\n",
       " '',\n",
       " 'Name of the Insured Shanti Lal',\n",
       " 'Claim No. 210000083 P',\n",
       " 'Type of Claim Death Claim',\n",
       " 'Location Bhilwara /Rajsaman d',\n",
       " 'Professional Charges for Investigation Amount',\n",
       " 'Complete Investigation Charge',\n",
       " 'different Location Visit Charges - 3000/ -',\n",
       " '- 200/ -',\n",
       " 'IGST Charges (18%) - 900/-',\n",
       " 'Multiple Visit Charges -',\n",
       " 'Total 5900 /-',\n",
       " 'Amount in words - Five Thousand Nine Hundred Rupees Only',\n",
       " 'Thanking You,',\n",
       " 'Yours Truly',\n",
       " 'For Maccoy Consultancy Services Pvt Ltd',\n",
       " '',\n",
       " '',\n",
       " '',\n",
       " 'Authorized Si gnatory',\n",
       " '',\n",
       " '',\n",
       " 'Note:',\n",
       " '1.TDS Deducted if any may kindly be credited to Pan No: - AAICM8727F',\n",
       " '2.Cheque may kindly be prepared in favour of Maccoy Consultancy Services Pvt . Ltd',\n",
       " '3.ICICI Bank Account No: - 031805004989 IFSC - ICIC0000318',\n",
       " '4.Service Tax not included as our organization currently fall under service tax exemption.',\n",
       " '',\n",
       " '',\n",
       " '',\n",
       " '',\n",
       " '',\n",
       " '',\n",
       " '',\n",
       " '',\n",
       " '',\n",
       " '',\n",
       " '',\n",
       " '',\n",
       " '',\n",
       " '',\n",
       " '',\n",
       " '',\n",
       " '',\n",
       " '',\n",
       " '']"
      ]
     },
     "execution_count": 8,
     "metadata": {},
     "output_type": "execute_result"
    }
   ],
   "source": [
    "stripped"
   ]
  },
  {
   "cell_type": "code",
   "execution_count": null,
   "id": "edb2f1b4-cb64-4250-aeba-1556630ce1f7",
   "metadata": {},
   "outputs": [],
   "source": []
  }
 ],
 "metadata": {
  "kernelspec": {
   "display_name": "Python 3 (ipykernel)",
   "language": "python",
   "name": "python3"
  },
  "language_info": {
   "codemirror_mode": {
    "name": "ipython",
    "version": 3
   },
   "file_extension": ".py",
   "mimetype": "text/x-python",
   "name": "python",
   "nbconvert_exporter": "python",
   "pygments_lexer": "ipython3",
   "version": "3.8.10"
  }
 },
 "nbformat": 4,
 "nbformat_minor": 5
}
